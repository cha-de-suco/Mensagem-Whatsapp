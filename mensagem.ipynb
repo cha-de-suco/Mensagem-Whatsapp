{
 "cells": [
  {
   "cell_type": "code",
   "execution_count": 4,
   "metadata": {},
   "outputs": [
    {
     "data": {
      "text/html": [
       "<div>\n",
       "<style scoped>\n",
       "    .dataframe tbody tr th:only-of-type {\n",
       "        vertical-align: middle;\n",
       "    }\n",
       "\n",
       "    .dataframe tbody tr th {\n",
       "        vertical-align: top;\n",
       "    }\n",
       "\n",
       "    .dataframe thead th {\n",
       "        text-align: right;\n",
       "    }\n",
       "</style>\n",
       "<table border=\"1\" class=\"dataframe\">\n",
       "  <thead>\n",
       "    <tr style=\"text-align: right;\">\n",
       "      <th></th>\n",
       "      <th>Pessoa</th>\n",
       "      <th>Número</th>\n",
       "      <th>Mensagem</th>\n",
       "    </tr>\n",
       "  </thead>\n",
       "  <tbody>\n",
       "    <tr>\n",
       "      <th>0</th>\n",
       "      <td>Diego</td>\n",
       "      <td>PREENCHA SEU NUMERO AQUI</td>\n",
       "      <td>Coe, ta doidao?</td>\n",
       "    </tr>\n",
       "    <tr>\n",
       "      <th>1</th>\n",
       "      <td>Alon</td>\n",
       "      <td>PREENCHA SEU NUMERO AQUI</td>\n",
       "      <td>E aí, tudo bem?</td>\n",
       "    </tr>\n",
       "    <tr>\n",
       "      <th>2</th>\n",
       "      <td>Julia</td>\n",
       "      <td>PREENCHA SEU NUMERO AQUI</td>\n",
       "      <td>Oi sumida</td>\n",
       "    </tr>\n",
       "  </tbody>\n",
       "</table>\n",
       "</div>"
      ],
      "text/plain": [
       "  Pessoa                    Número         Mensagem\n",
       "0  Diego  PREENCHA SEU NUMERO AQUI  Coe, ta doidao?\n",
       "1   Alon  PREENCHA SEU NUMERO AQUI  E aí, tudo bem?\n",
       "2  Julia  PREENCHA SEU NUMERO AQUI        Oi sumida"
      ]
     },
     "metadata": {},
     "output_type": "display_data"
    }
   ],
   "source": [
    "\n",
    "\n",
    "display(contatos_df)"
   ]
  },
  {
   "cell_type": "code",
   "execution_count": 8,
   "metadata": {},
   "outputs": [],
   "source": [
    "from selenium import webdriver\n",
    "from selenium.webdriver.common.keys import Keys\n",
    "from selenium.webdriver.common.by import By\n",
    "import time\n",
    "import pyautogui\n",
    "import urllib\n",
    "\n",
    "# Curisiosidade importante: É possivel enviar uma mensagem de texto para um determindo número utilizando o navegador.\n",
    "# Basta colocar na barra de pesquisa o seguinte texto: wa.me/numero da pessoa?text=mensagem\n",
    "\n",
    "navegador = webdriver.Chrome()\n",
    "time.sleep(1)\n",
    "navegador.get(\"https://web.whatsapp.com/\")\n",
    "time.sleep(3)\n",
    "while len (navegador.find_elements(By.ID, \"pane-side\")) < 1:\n",
    "    time.sleep(1)\n",
    "\n",
    "for i, mensagem in enumerate(contatos_df['Mensagem']):\n",
    "    pessoas = contatos_df.loc[i, \"Pessoa\"]\n",
    "    numero = contatos_df.loc[i, \"Número\"]\n",
    "    texto = urllib.parse.quote(f\"{mensagem}\")\n",
    "    time.sleep(2)\n",
    "    pyautogui.press(\"Enter\")\n",
    "    time.sleep(2)\n",
    "    link = f\"https://web.whatsapp.com/send?phone=554199142601&text={texto}\"\n",
    "    navegador.get(link)\n",
    "    while len (navegador.find_elements(By.ID, \"pane-side\")) < 1:\n",
    "        time.sleep(1)\n"
   ]
  }
 ],
 "metadata": {
  "kernelspec": {
   "display_name": "Python 3",
   "language": "python",
   "name": "python3"
  },
  "language_info": {
   "codemirror_mode": {
    "name": "ipython",
    "version": 3
   },
   "file_extension": ".py",
   "mimetype": "text/x-python",
   "name": "python",
   "nbconvert_exporter": "python",
   "pygments_lexer": "ipython3",
   "version": "3.11.9"
  }
 },
 "nbformat": 4,
 "nbformat_minor": 2
}
